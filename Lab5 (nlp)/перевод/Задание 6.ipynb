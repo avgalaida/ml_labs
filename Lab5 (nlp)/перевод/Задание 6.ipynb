{
 "cells": [
  {
   "metadata": {},
   "cell_type": "markdown",
   "source": [
    "# Задание 6\n",
    "## UltraPro\n",
    "### Реализовать seq2seq с механизмом внимание"
   ]
  },
  {
   "metadata": {
    "id": "_tuTL_xFX9KH",
    "executionInfo": {
     "status": "ok",
     "timestamp": 1597608640549,
     "user_tz": -330,
     "elapsed": 1843,
     "user": {
      "displayName": "Prateek Joshi",
      "photoUrl": "",
      "userId": "14172408186104425556"
     }
    },
    "trusted": true,
    "ExecuteTime": {
     "end_time": "2023-10-20T06:48:39.394621Z",
     "start_time": "2023-10-20T06:48:39.357692Z"
    }
   },
   "cell_type": "code",
   "source": [
    "import time\n",
    "import pandas as pd\n",
    "\n",
    "import torch\n",
    "import torch.nn as nn\n",
    "import torch.nn.functional as F\n",
    "import torch.optim as optim\n",
    "import torchtext.data as data # версия 0.4\n",
    "\n",
    "import spacy\n",
    "from spacy.lang.ru import Russian\n",
    "\n",
    "from tqdm import tqdm\n",
    "pd.set_option('display.max_colwidth', 200)\n",
    "\n",
    "import warnings\n",
    "warnings.filterwarnings('ignore')\n",
    "\n",
    "device = torch.device('cpu')"
   ],
   "execution_count": 48,
   "outputs": []
  },
  {
   "metadata": {
    "id": "WHoAFbeGZO9f",
    "executionInfo": {
     "status": "ok",
     "timestamp": 1597608653659,
     "user_tz": -330,
     "elapsed": 2035,
     "user": {
      "displayName": "Prateek Joshi",
      "photoUrl": "",
      "userId": "14172408186104425556"
     }
    },
    "trusted": true,
    "ExecuteTime": {
     "end_time": "2023-10-20T06:48:40.028137Z",
     "start_time": "2023-10-20T06:48:39.789091Z"
    }
   },
   "cell_type": "code",
   "source": [
    "nlp_ru = Russian()\n",
    "nlp_en = spacy.load(\"en_core_web_sm\", disable = [\"parser\", \"tagger\", \"ner\"])"
   ],
   "execution_count": 49,
   "outputs": []
  },
  {
   "metadata": {
    "id": "xku6rYQ5ZVqg",
    "executionInfo": {
     "status": "ok",
     "timestamp": 1597608659424,
     "user_tz": -330,
     "elapsed": 1833,
     "user": {
      "displayName": "Prateek Joshi",
      "photoUrl": "",
      "userId": "14172408186104425556"
     }
    },
    "trusted": true,
    "ExecuteTime": {
     "end_time": "2023-10-20T06:48:40.044540Z",
     "start_time": "2023-10-20T06:48:40.029206Z"
    }
   },
   "cell_type": "code",
   "source": [
    "def tokenize_ru(text):\n",
    "  return [tok.text for tok in nlp_ru.tokenizer(text)]\n",
    "def tokenize_en(text):\n",
    "  return [tok.text for tok in nlp_en.tokenizer(text)]"
   ],
   "execution_count": 50,
   "outputs": []
  },
  {
   "metadata": {
    "id": "N3kbwvXBZciJ",
    "executionInfo": {
     "status": "ok",
     "timestamp": 1597608667507,
     "user_tz": -330,
     "elapsed": 1445,
     "user": {
      "displayName": "Prateek Joshi",
      "photoUrl": "",
      "userId": "14172408186104425556"
     }
    },
    "trusted": true,
    "ExecuteTime": {
     "end_time": "2023-10-20T06:48:40.148794Z",
     "start_time": "2023-10-20T06:48:40.146934Z"
    }
   },
   "cell_type": "code",
   "source": [
    "SRC = data.Field(tokenize = tokenize_ru, \n",
    "                 include_lengths = True, \n",
    "                 lower = True)\n",
    "\n",
    "TRG = data.Field(tokenize = tokenize_en, \n",
    "                 init_token = '<sos>', # \"start\" token\n",
    "                 eos_token = '<eos>', # \"\" token\n",
    "                 include_lengths = True, \n",
    "                 lower = True)\n",
    "\n",
    "fields = [('rus', SRC), ('eng', TRG)]"
   ],
   "execution_count": 51,
   "outputs": []
  },
  {
   "metadata": {
    "id": "Lp8cztUfb1ia",
    "executionInfo": {
     "status": "ok",
     "timestamp": 1597608721860,
     "user_tz": -330,
     "elapsed": 14894,
     "user": {
      "displayName": "Prateek Joshi",
      "photoUrl": "",
      "userId": "14172408186104425556"
     }
    },
    "trusted": true,
    "ExecuteTime": {
     "end_time": "2023-10-20T06:48:45.249480Z",
     "start_time": "2023-10-20T06:48:40.317606Z"
    }
   },
   "cell_type": "code",
   "source": [
    "nmt_data = data.TabularDataset(path=\"./train.csv\", format='csv', fields=fields)"
   ],
   "execution_count": 52,
   "outputs": []
  },
  {
   "metadata": {
    "id": "aN8F4PXBb-I2",
    "executionInfo": {
     "status": "ok",
     "timestamp": 1597608722672,
     "user_tz": -330,
     "elapsed": 2580,
     "user": {
      "displayName": "Prateek Joshi",
      "photoUrl": "",
      "userId": "14172408186104425556"
     }
    },
    "trusted": true,
    "ExecuteTime": {
     "end_time": "2023-10-20T06:48:45.523982Z",
     "start_time": "2023-10-20T06:48:45.292146Z"
    }
   },
   "cell_type": "code",
   "source": [
    "SRC.build_vocab(nmt_data, max_size=4000)\n",
    "TRG.build_vocab(nmt_data, max_size=4000)\n",
    "len(SRC.vocab), len(TRG.vocab)"
   ],
   "execution_count": 53,
   "outputs": [
    {
     "data": {
      "text/plain": "(4002, 4004)"
     },
     "execution_count": 53,
     "metadata": {},
     "output_type": "execute_result"
    }
   ]
  },
  {
   "metadata": {
    "id": "242vRepjcS4T",
    "executionInfo": {
     "status": "ok",
     "timestamp": 1597608727361,
     "user_tz": -330,
     "elapsed": 1508,
     "user": {
      "displayName": "Prateek Joshi",
      "photoUrl": "",
      "userId": "14172408186104425556"
     }
    },
    "trusted": true,
    "ExecuteTime": {
     "end_time": "2023-10-20T06:48:45.594554Z",
     "start_time": "2023-10-20T06:48:45.573638Z"
    }
   },
   "cell_type": "code",
   "source": [
    "train_data, val_data = nmt_data.split(split_ratio=0.8)"
   ],
   "execution_count": 54,
   "outputs": []
  },
  {
   "metadata": {
    "id": "fnHMNU_ScWrO",
    "executionInfo": {
     "status": "ok",
     "timestamp": 1597608727363,
     "user_tz": -330,
     "elapsed": 1143,
     "user": {
      "displayName": "Prateek Joshi",
      "photoUrl": "",
      "userId": "14172408186104425556"
     }
    },
    "trusted": true,
    "ExecuteTime": {
     "end_time": "2023-10-20T06:48:45.629048Z",
     "start_time": "2023-10-20T06:48:45.627015Z"
    }
   },
   "cell_type": "code",
   "source": [
    "train_iterator, valid_iterator = data.BucketIterator.splits(\n",
    "    (train_data, val_data), \n",
    "    batch_size = 64, \n",
    "    sort_within_batch = True, \n",
    "    sort_key = lambda x:len(x.rus),\n",
    "    device = device)"
   ],
   "execution_count": 55,
   "outputs": []
  },
  {
   "metadata": {
    "id": "mQc_6hSdcfel",
    "executionInfo": {
     "status": "ok",
     "timestamp": 1597608675229,
     "user_tz": -330,
     "elapsed": 2039,
     "user": {
      "displayName": "Prateek Joshi",
      "photoUrl": "",
      "userId": "14172408186104425556"
     }
    },
    "trusted": true,
    "ExecuteTime": {
     "end_time": "2023-10-20T06:48:45.639042Z",
     "start_time": "2023-10-20T06:48:45.630632Z"
    }
   },
   "cell_type": "code",
   "source": [
    "class Encoder(nn.Module):\n",
    "    def __init__(self, hidden_size, embedding_size, num_layers=2, dropout=0.3):\n",
    "    \n",
    "        super(Encoder, self).__init__()\n",
    "    \n",
    "        self.hidden_size = hidden_size\n",
    "        self.embedding_size = embedding_size\n",
    "        self.num_layers = num_layers\n",
    "        self.dropout = dropout\n",
    "    \n",
    "        self.embedding = nn.Embedding(len(SRC.vocab), embedding_size)\n",
    "        self.gru = nn.GRU(embedding_size, hidden_size,\n",
    "                          num_layers=num_layers,\n",
    "                          dropout=dropout)\n",
    "      \n",
    "    def forward(self, input_sequence):\n",
    "        embedded = self.embedding(input_sequence)\n",
    "        outputs, hidden = self.gru(embedded)\n",
    "\n",
    "        return outputs, hidden"
   ],
   "execution_count": 56,
   "outputs": []
  },
  {
   "metadata": {
    "id": "VdCbw3Q6e7cI",
    "executionInfo": {
     "status": "ok",
     "timestamp": 1597608676951,
     "user_tz": -330,
     "elapsed": 914,
     "user": {
      "displayName": "Prateek Joshi",
      "photoUrl": "",
      "userId": "14172408186104425556"
     }
    },
    "trusted": true,
    "ExecuteTime": {
     "end_time": "2023-10-20T06:48:45.639236Z",
     "start_time": "2023-10-20T06:48:45.633165Z"
    }
   },
   "cell_type": "code",
   "source": [
    "class Attention(nn.Module):\n",
    "    def __init__(self, hidden_size):\n",
    "        super(Attention, self).__init__()        \n",
    "        self.hidden_size = hidden_size\n",
    "\n",
    "    @staticmethod\n",
    "    def dot_score(hidden_state, encoder_states):\n",
    "        return torch.sum(hidden_state * encoder_states, dim=2)\n",
    "  \n",
    "    def forward(self, hidden, encoder_outputs, mask):\n",
    "        attn_scores = self.dot_score(hidden, encoder_outputs)\n",
    "        attn_scores = attn_scores.t()\n",
    "        attn_scores = attn_scores.masked_fill(mask == 0, -1e5)\n",
    "     \n",
    "        return F.softmax(attn_scores, dim=1).unsqueeze(1)"
   ],
   "execution_count": 57,
   "outputs": []
  },
  {
   "metadata": {
    "id": "ws1f7ONofEd9",
    "executionInfo": {
     "status": "ok",
     "timestamp": 1597608680710,
     "user_tz": -330,
     "elapsed": 1458,
     "user": {
      "displayName": "Prateek Joshi",
      "photoUrl": "",
      "userId": "14172408186104425556"
     }
    },
    "trusted": true,
    "ExecuteTime": {
     "end_time": "2023-10-20T06:48:45.639284Z",
     "start_time": "2023-10-20T06:48:45.636972Z"
    }
   },
   "cell_type": "code",
   "source": [
    "class Decoder(nn.Module):\n",
    "  def __init__(self, embedding_size, hidden_size, output_size, n_layers=2, dropout=0.3):\n",
    "      \n",
    "    super(Decoder, self).__init__()\n",
    "    \n",
    "    self.hidden_size = hidden_size\n",
    "    self.output_size = output_size\n",
    "    self.n_layers = n_layers\n",
    "    self.dropout = dropout\n",
    "    self.embedding = nn.Embedding(output_size, embedding_size)\n",
    "            \n",
    "    self.gru = nn.GRU(embedding_size, hidden_size, n_layers, \n",
    "                      dropout=dropout)\n",
    "    \n",
    "    self.concat = nn.Linear(hidden_size * 2, hidden_size)\n",
    "    self.out = nn.Linear(hidden_size, output_size)\n",
    "    self.attn = Attention(hidden_size)\n",
    "      \n",
    "  def forward(self, current_token, hidden_state, encoder_outputs, mask):\n",
    "    \n",
    "    embedded = self.embedding(current_token)\n",
    "    gru_output, hidden_state = self.gru(embedded, hidden_state)\n",
    "    attention_weights = self.attn(gru_output, encoder_outputs, mask)\n",
    "    context = attention_weights.bmm(encoder_outputs.transpose(0, 1))\n",
    "    \n",
    "    gru_output = gru_output.squeeze(0)\n",
    "    context = context.squeeze(1)\n",
    "    concat_input = torch.cat((gru_output, context), 1)\n",
    "    concat_output = torch.tanh(self.concat(concat_input))\n",
    "    \n",
    "    output = self.out(concat_output)\n",
    "\n",
    "    return output, hidden_state"
   ],
   "execution_count": 58,
   "outputs": []
  },
  {
   "metadata": {
    "id": "qtZk_bZuf4T3",
    "executionInfo": {
     "status": "ok",
     "timestamp": 1597608683291,
     "user_tz": -330,
     "elapsed": 1191,
     "user": {
      "displayName": "Prateek Joshi",
      "photoUrl": "",
      "userId": "14172408186104425556"
     }
    },
    "trusted": true,
    "ExecuteTime": {
     "end_time": "2023-10-20T06:48:45.649191Z",
     "start_time": "2023-10-20T06:48:45.645927Z"
    }
   },
   "cell_type": "code",
   "source": [
    "class seq2seq(nn.Module):\n",
    "  def __init__(self, embedding_size, hidden_size, vocab_size, device, pad_idx, eos_idx, sos_idx):\n",
    "    super(seq2seq, self).__init__()\n",
    "    \n",
    "    self.embedding = nn.Embedding(vocab_size, embedding_size)\n",
    "    \n",
    "    self.encoder = Encoder(hidden_size, \n",
    "                            embedding_size,\n",
    "                            num_layers=2,\n",
    "                            dropout=0.3)\n",
    "         \n",
    "    self.decoder = Decoder(embedding_size,\n",
    "                            hidden_size,\n",
    "                            vocab_size,\n",
    "                            n_layers=2,\n",
    "                            dropout=0.3)\n",
    "    \n",
    "    \n",
    "    self.pad_idx = pad_idx\n",
    "    self.eos_idx = eos_idx\n",
    "    self.sos_idx = sos_idx\n",
    "    self.device = device\n",
    "      \n",
    "  def create_mask(self, input_sequence):\n",
    "    return (input_sequence != self.pad_idx).permute(1, 0)\n",
    "      \n",
    "      \n",
    "  def forward(self, input_sequence, output_sequence):\n",
    "    \n",
    "    input_tokens = input_sequence[0]\n",
    "    \n",
    "    if output_sequence is None:\n",
    "      inference = True\n",
    "      output_tokens = torch.zeros((100, input_tokens.shape[1])).long().fill_(self.sos_idx).to(self.device)\n",
    "    else:\n",
    "      inference = False\n",
    "      output_tokens = output_sequence[0]\n",
    "    \n",
    "    vocab_size = self.decoder.output_size\n",
    "    batch_size = len(input_sequence[1])\n",
    "    max_seq_len = len(output_tokens)\n",
    "    \n",
    "    outputs = torch.zeros(max_seq_len, batch_size, vocab_size).to(self.device)        \n",
    "    \n",
    "    encoder_outputs, hidden = self.encoder(input_tokens)\n",
    "    \n",
    "    output = output_tokens[0,:]\n",
    "    \n",
    "    mask = self.create_mask(input_tokens)\n",
    "    \n",
    "    for t in range(1, max_seq_len):\n",
    "      output = output.unsqueeze(0)\n",
    "      \n",
    "      output, hidden = self.decoder(output, hidden, encoder_outputs, mask)\n",
    "      outputs[t] = output\n",
    "      \n",
    "      if inference:\n",
    "        output = output.max(1)[1]\n",
    "      else:\n",
    "        output = output_tokens[t]\n",
    "      \n",
    "      if inference and output.item() == self.eos_idx:\n",
    "        return outputs[:t]\n",
    "        \n",
    "    return outputs"
   ],
   "execution_count": 59,
   "outputs": []
  },
  {
   "metadata": {
    "id": "HTvvFcqegVsB",
    "executionInfo": {
     "status": "ok",
     "timestamp": 1597608737897,
     "user_tz": -330,
     "elapsed": 1254,
     "user": {
      "displayName": "Prateek Joshi",
      "photoUrl": "",
      "userId": "14172408186104425556"
     }
    },
    "trusted": true,
    "ExecuteTime": {
     "end_time": "2023-10-20T06:48:45.650107Z",
     "start_time": "2023-10-20T06:48:45.648343Z"
    }
   },
   "cell_type": "code",
   "source": [
    "pad_idx = TRG.vocab.stoi['<pad>']\n",
    "eos_idx = TRG.vocab.stoi['<eos>']\n",
    "sos_idx = TRG.vocab.stoi['<sos>']\n",
    "\n",
    "embedding_dim = 100\n",
    "hidden_dim = 256\n",
    "vocab_size = len(TRG.vocab)"
   ],
   "execution_count": 60,
   "outputs": []
  },
  {
   "metadata": {
    "id": "Bv34kIurggpi",
    "executionInfo": {
     "status": "ok",
     "timestamp": 1597608744952,
     "user_tz": -330,
     "elapsed": 6030,
     "user": {
      "displayName": "Prateek Joshi",
      "photoUrl": "",
      "userId": "14172408186104425556"
     }
    },
    "trusted": true,
    "ExecuteTime": {
     "end_time": "2023-10-20T06:48:45.673877Z",
     "start_time": "2023-10-20T06:48:45.651703Z"
    }
   },
   "cell_type": "code",
   "source": [
    "model = seq2seq(embedding_dim,\n",
    "                hidden_dim, \n",
    "                vocab_size, \n",
    "                device, pad_idx, eos_idx, sos_idx).to(device)"
   ],
   "execution_count": 61,
   "outputs": []
  },
  {
   "metadata": {
    "id": "radteBFHgj73",
    "executionInfo": {
     "status": "ok",
     "timestamp": 1597608744957,
     "user_tz": -330,
     "elapsed": 1331,
     "user": {
      "displayName": "Prateek Joshi",
      "photoUrl": "",
      "userId": "14172408186104425556"
     }
    },
    "outputId": "652b91b6-6aa5-4966-db37-c24383324e27",
    "trusted": true,
    "ExecuteTime": {
     "end_time": "2023-10-20T06:48:45.683592Z",
     "start_time": "2023-10-20T06:48:45.674516Z"
    }
   },
   "cell_type": "code",
   "source": [
    "model"
   ],
   "execution_count": 62,
   "outputs": [
    {
     "data": {
      "text/plain": "seq2seq(\n  (embedding): Embedding(4004, 100)\n  (encoder): Encoder(\n    (embedding): Embedding(4002, 100)\n    (gru): GRU(100, 256, num_layers=2, dropout=0.3)\n  )\n  (decoder): Decoder(\n    (embedding): Embedding(4004, 100)\n    (gru): GRU(100, 256, num_layers=2, dropout=0.3)\n    (concat): Linear(in_features=512, out_features=256, bias=True)\n    (out): Linear(in_features=256, out_features=4004, bias=True)\n    (attn): Attention()\n  )\n)"
     },
     "execution_count": 62,
     "metadata": {},
     "output_type": "execute_result"
    }
   ]
  },
  {
   "metadata": {
    "id": "7jXE3me9gmkc",
    "trusted": true,
    "ExecuteTime": {
     "end_time": "2023-10-20T06:48:45.683784Z",
     "start_time": "2023-10-20T06:48:45.677369Z"
    }
   },
   "cell_type": "code",
   "source": [
    "optimizer = optim.Adam(model.parameters())\n",
    "criterion = nn.CrossEntropyLoss(ignore_index = pad_idx)"
   ],
   "execution_count": 63,
   "outputs": []
  },
  {
   "metadata": {
    "id": "cDl-ncAshKsS",
    "trusted": true,
    "ExecuteTime": {
     "end_time": "2023-10-20T06:48:45.683822Z",
     "start_time": "2023-10-20T06:48:45.680841Z"
    }
   },
   "cell_type": "code",
   "source": [
    "def train(model, ld, criterion, optimizer):\n",
    "  model.train()\n",
    "  \n",
    "  epoch_loss = 0\n",
    "  \n",
    "  for batch in tqdm(ld):\n",
    "    input_sequence = batch.rus\n",
    "    output_sequence = batch.eng\n",
    "\n",
    "    target_tokens = output_sequence[0]\n",
    "\n",
    "    optimizer.zero_grad()\n",
    "\n",
    "    output = model(input_sequence, output_sequence)\n",
    "\n",
    "    output = output[1:].view(-1, output.shape[-1])\n",
    "    target_tokens = target_tokens[1:].view(-1)\n",
    "\n",
    "    loss = criterion(output, target_tokens)\n",
    "\n",
    "    loss.backward()\n",
    "\n",
    "    optimizer.step()\n",
    "\n",
    "    epoch_loss += loss.item()\n",
    "      \n",
    "  return epoch_loss / len(ld)"
   ],
   "execution_count": 64,
   "outputs": []
  },
  {
   "metadata": {
    "id": "dI0i_3BTxm6y",
    "trusted": true,
    "ExecuteTime": {
     "end_time": "2023-10-20T06:48:46.005081Z",
     "start_time": "2023-10-20T06:48:46.003251Z"
    }
   },
   "cell_type": "code",
   "source": [
    "def evaluate(model, iterator, criterion):\n",
    "  model.eval()\n",
    "  \n",
    "  epoch_loss = 0\n",
    "  \n",
    "  with torch.no_grad():\n",
    "      for batch in iterator:\n",
    "        input_sequence = batch.rus\n",
    "        output_sequence = batch.eng\n",
    "    \n",
    "        target_tokens = output_sequence[0]\n",
    "    \n",
    "        output = model(input_sequence, output_sequence)\n",
    "    \n",
    "        output = output[1:].view(-1, output.shape[-1])\n",
    "        target_tokens = target_tokens[1:].view(-1)\n",
    "    \n",
    "        loss = criterion(output, target_tokens)\n",
    "    \n",
    "        epoch_loss += loss.item()\n",
    "      \n",
    "  return epoch_loss / len(iterator)"
   ],
   "execution_count": 65,
   "outputs": []
  },
  {
   "metadata": {
    "id": "ES9VLozNycFs",
    "trusted": true,
    "ExecuteTime": {
     "end_time": "2023-10-20T06:48:46.394512Z",
     "start_time": "2023-10-20T06:48:46.379307Z"
    }
   },
   "cell_type": "code",
   "source": [
    "def epoch_time(start_time, end_time):\n",
    "  elapsed_time = end_time - start_time\n",
    "  elapsed_mins = int(elapsed_time / 60)\n",
    "  elapsed_secs = int(elapsed_time - (elapsed_mins * 60))\n",
    "  return elapsed_mins, elapsed_secs"
   ],
   "execution_count": 66,
   "outputs": []
  },
  {
   "metadata": {
    "id": "P1QF7f0vyb83",
    "executionInfo": {
     "status": "ok",
     "timestamp": 1597606380317,
     "user_tz": -330,
     "elapsed": 712052,
     "user": {
      "displayName": "Prateek Joshi",
      "photoUrl": "",
      "userId": "14172408186104425556"
     }
    },
    "outputId": "1dbda4bb-72bf-444c-e18a-f2456af6b62b",
    "trusted": true,
    "ExecuteTime": {
     "end_time": "2023-10-20T07:05:37.153882Z",
     "start_time": "2023-10-20T06:48:46.777117Z"
    }
   },
   "cell_type": "code",
   "source": [
    "N_EPOCHS = 5\n",
    "\n",
    "best_valid_loss = float('inf')\n",
    "\n",
    "for epoch in range(N_EPOCHS):\n",
    "    \n",
    "  start_time = time.time()\n",
    "  \n",
    "  train_loss = train(model, train_iterator, criterion, optimizer)\n",
    "  valid_loss = evaluate(model, valid_iterator, criterion)\n",
    "  \n",
    "  end_time = time.time()\n",
    "  \n",
    "  epoch_mins, epoch_secs = epoch_time(start_time, end_time)\n",
    "  \n",
    "  if valid_loss < best_valid_loss:\n",
    "    best_valid_loss = valid_loss\n",
    "    torch.save(model.state_dict(), 'best_model.pt')\n",
    "  \n",
    "  print(f'Epoch: {epoch+1:02} | Time: {epoch_mins}m {epoch_secs}s')\n",
    "  print(f'\\tTrain Loss: {train_loss:.3f}')\n",
    "  print(f'\\t Val. Loss: {valid_loss:.3f}')"
   ],
   "execution_count": 67,
   "outputs": [
    {
     "name": "stderr",
     "output_type": "stream",
     "text": [
      "100%|██████████| 2339/2339 [03:08<00:00, 12.44it/s]\n"
     ]
    },
    {
     "name": "stdout",
     "output_type": "stream",
     "text": [
      "Epoch: 01 | Time: 3m 21s\n",
      "\tTrain Loss: 3.060\n",
      "\t Val. Loss: 2.141\n"
     ]
    },
    {
     "name": "stderr",
     "output_type": "stream",
     "text": [
      "100%|██████████| 2339/2339 [03:03<00:00, 12.76it/s]\n"
     ]
    },
    {
     "name": "stdout",
     "output_type": "stream",
     "text": [
      "Epoch: 02 | Time: 3m 16s\n",
      "\tTrain Loss: 1.866\n",
      "\t Val. Loss: 1.647\n"
     ]
    },
    {
     "name": "stderr",
     "output_type": "stream",
     "text": [
      "100%|██████████| 2339/2339 [03:10<00:00, 12.26it/s]\n"
     ]
    },
    {
     "name": "stdout",
     "output_type": "stream",
     "text": [
      "Epoch: 03 | Time: 3m 23s\n",
      "\tTrain Loss: 1.500\n",
      "\t Val. Loss: 1.460\n"
     ]
    },
    {
     "name": "stderr",
     "output_type": "stream",
     "text": [
      "100%|██████████| 2339/2339 [03:12<00:00, 12.18it/s]\n"
     ]
    },
    {
     "name": "stdout",
     "output_type": "stream",
     "text": [
      "Epoch: 04 | Time: 3m 25s\n",
      "\tTrain Loss: 1.317\n",
      "\t Val. Loss: 1.363\n"
     ]
    },
    {
     "name": "stderr",
     "output_type": "stream",
     "text": [
      "100%|██████████| 2339/2339 [03:10<00:00, 12.31it/s]\n"
     ]
    },
    {
     "name": "stdout",
     "output_type": "stream",
     "text": [
      "Epoch: 05 | Time: 3m 23s\n",
      "\tTrain Loss: 1.206\n",
      "\t Val. Loss: 1.314\n"
     ]
    }
   ]
  },
  {
   "metadata": {
    "id": "oe33roXEZXQj",
    "executionInfo": {
     "status": "ok",
     "timestamp": 1597608755127,
     "user_tz": -330,
     "elapsed": 1297,
     "user": {
      "displayName": "Prateek Joshi",
      "photoUrl": "",
      "userId": "14172408186104425556"
     }
    },
    "outputId": "1b9c4563-aace-41ac-ad35-3cbf9a36e34d",
    "trusted": true,
    "ExecuteTime": {
     "end_time": "2023-10-20T07:07:12.102032Z",
     "start_time": "2023-10-20T07:07:12.076712Z"
    }
   },
   "cell_type": "code",
   "source": [
    "path = 'best_model.pt'\n",
    "model.load_state_dict(torch.load(path))"
   ],
   "execution_count": 68,
   "outputs": [
    {
     "data": {
      "text/plain": "<All keys matched successfully>"
     },
     "execution_count": 68,
     "metadata": {},
     "output_type": "execute_result"
    }
   ]
  },
  {
   "metadata": {
    "id": "NNYrl9xuhtK6",
    "executionInfo": {
     "status": "ok",
     "timestamp": 1597608764359,
     "user_tz": -330,
     "elapsed": 1776,
     "user": {
      "displayName": "Prateek Joshi",
      "photoUrl": "",
      "userId": "14172408186104425556"
     }
    },
    "trusted": true,
    "ExecuteTime": {
     "end_time": "2023-10-20T07:07:13.031807Z",
     "start_time": "2023-10-20T07:07:13.012630Z"
    }
   },
   "cell_type": "code",
   "source": [
    "def translate_sentence(model, sentence):\n",
    "    model.eval()\n",
    "    with torch.no_grad():\n",
    "        tokenized = nlp_ru(sentence) \n",
    "        tokenized = [t.lower_ for t in tokenized]\n",
    "        int_tokenized = [SRC.vocab.stoi[t] for t in tokenized] \n",
    "        \n",
    "        sentence_length = torch.LongTensor([len(int_tokenized)]).to(model.device) \n",
    "        tensor = torch.LongTensor(int_tokenized).unsqueeze(1).to(model.device) \n",
    "        translation_tensor_logits = model((tensor, sentence_length), None) \n",
    "        translation_tensor = torch.argmax(translation_tensor_logits.squeeze(1), 1)\n",
    "        translation = [TRG.vocab.itos[t] for t in translation_tensor]\n",
    "     \n",
    "        translation = translation[1:]\n",
    "        return \" \".join(translation)"
   ],
   "execution_count": 69,
   "outputs": []
  },
  {
   "metadata": {
    "id": "wTn1rIdMva8H",
    "executionInfo": {
     "status": "ok",
     "timestamp": 1597606886808,
     "user_tz": -330,
     "elapsed": 1782,
     "user": {
      "displayName": "Prateek Joshi",
      "photoUrl": "",
      "userId": "14172408186104425556"
     }
    },
    "outputId": "4c59d129-8aa5-459b-d1ae-030aee9d2452",
    "trusted": true,
    "ExecuteTime": {
     "end_time": "2023-10-20T07:09:59.875657Z",
     "start_time": "2023-10-20T07:09:59.835532Z"
    }
   },
   "cell_type": "code",
   "source": [
    "sentence = ('я человек')\n",
    "response = translate_sentence(model, sentence)\n",
    "print(response)"
   ],
   "execution_count": 78,
   "outputs": [
    {
     "name": "stdout",
     "output_type": "stream",
     "text": [
      "i 'm a man\n"
     ]
    }
   ]
  },
  {
   "metadata": {
    "id": "wSDfRbWSy8C8",
    "executionInfo": {
     "status": "ok",
     "timestamp": 1597608796965,
     "user_tz": -330,
     "elapsed": 1683,
     "user": {
      "displayName": "Prateek Joshi",
      "photoUrl": "",
      "userId": "14172408186104425556"
     }
    },
    "trusted": true,
    "ExecuteTime": {
     "end_time": "2023-10-20T07:07:16.847282Z",
     "start_time": "2023-10-20T07:07:16.761954Z"
    }
   },
   "cell_type": "code",
   "source": [
    "test_df = pd.read_csv('./data/translation.csv')"
   ],
   "execution_count": 71,
   "outputs": []
  },
  {
   "metadata": {
    "id": "HVro9aj8wA8W",
    "executionInfo": {
     "status": "ok",
     "timestamp": 1597609112572,
     "user_tz": -330,
     "elapsed": 306917,
     "user": {
      "displayName": "Prateek Joshi",
      "photoUrl": "",
      "userId": "14172408186104425556"
     }
    },
    "outputId": "9e00f034-5a1c-42e9-8885-d87ea7bd2930",
    "trusted": true,
    "ExecuteTime": {
     "end_time": "2023-10-20T07:09:01.664056Z",
     "start_time": "2023-10-20T07:07:17.900934Z"
    }
   },
   "cell_type": "code",
   "source": [
    "attn_translations = [translate_sentence(model, sent) for sent in tqdm(test_df[\"rus\"])]"
   ],
   "execution_count": 72,
   "outputs": [
    {
     "name": "stderr",
     "output_type": "stream",
     "text": [
      "100%|██████████| 46668/46668 [01:43<00:00, 449.79it/s]\n"
     ]
    }
   ]
  },
  {
   "metadata": {
    "id": "INpJsF6SwTN1",
    "executionInfo": {
     "status": "ok",
     "timestamp": 1597609132780,
     "user_tz": -330,
     "elapsed": 1263,
     "user": {
      "displayName": "Prateek Joshi",
      "photoUrl": "",
      "userId": "14172408186104425556"
     }
    },
    "trusted": true,
    "ExecuteTime": {
     "end_time": "2023-10-20T07:09:13.114063Z",
     "start_time": "2023-10-20T07:09:13.054324Z"
    }
   },
   "cell_type": "code",
   "source": [
    "test_df[\"attn_translations\"] = attn_translations\n",
    "test_df.sample(20)"
   ],
   "execution_count": 73,
   "outputs": [
    {
     "data": {
      "text/plain": "                                           rus  \\\n39417                      все на меня смотрят   \n15923                я услышал позади себя шум   \n17578                    мы подтолкнули машину   \n33961                    том — хороший мальчик   \n32653                        ты это переживёшь   \n30                               я принёс обед   \n41396                    это можно было понять   \n36272             как ты познакомилась с томом   \n25925  крыша действительно нуждается в ремонте   \n9175                                дай их ему   \n33112                       я опоздал на поезд   \n26870                    она согласилась с ним   \n26265                       я хочу видеть тома   \n30761              том говорит что солгал мэри   \n26524                          том раздевается   \n18891                  думаю мы скоро вернёмся   \n22488                    я сказал что попробую   \n13614                           том это сделал   \n23876            том хотел с тобой встретиться   \n26684                           сын тома болен   \n\n                                         eng  \\\n39417              everyone is looking at me   \n15923              i heard a noise behind me   \n17578                 we gave the car a push   \n33961                      tom is a good boy   \n32653                     you'll get over it   \n30                        i've brought lunch   \n41396                  it was understandable   \n36272  how did you and tom become acquainted   \n25925   the roof is really in need of repair   \n9175                        give them to him   \n33112                     i missed the train   \n26870                    she agreed with him   \n26265                      i want to see tom   \n30761               tom says he lied to mary   \n26524                      tom is undressing   \n18891        i think that we'll be back soon   \n22488                    i said that i'd try   \n13614                      has tom done that   \n23876                 tom wanted to meet you   \n26684                      tom's son is sick   \n\n                                translations                 attn_translations  \n39417             everybody 's looking at me        everybody is looking at me  \n15923                        i heard a noise      i heard myself all the noise  \n17578                  we 're fixing the car                    we 're the car  \n33961                      tom is a good boy                 tom is a good boy  \n32653                      did you sign that                   you deserved it  \n30                           i brought lunch                   i brought lunch  \n41396                          it can happen         it was just to understand  \n36272                 how did you get to tom   how did you get to get with tom  \n25925  the roof of the roof is going to play  the roof is really good at <unk>  \n9175                        give them to him                      give them it  \n33112                     i missed the train                i missed the train  \n26870                       she ran with him            she <unk> him with him  \n26265                      i want to see tom                 i want to see tom  \n30761               tom says he lied to mary          tom says he lied to mary  \n26524                           tom is <unk>                      tom is <unk>  \n18891            i think we 'll be back soon       i think we 'll be back soon  \n22488                i said that i would try        i told me that you 'd come  \n13614                           tom did that                        tom did it  \n23876                 tom wanted to meet you            tom wanted to meet you  \n26684                     tom 's son is sick                tom 's son is sick  ",
      "text/html": "<div>\n<style scoped>\n    .dataframe tbody tr th:only-of-type {\n        vertical-align: middle;\n    }\n\n    .dataframe tbody tr th {\n        vertical-align: top;\n    }\n\n    .dataframe thead th {\n        text-align: right;\n    }\n</style>\n<table border=\"1\" class=\"dataframe\">\n  <thead>\n    <tr style=\"text-align: right;\">\n      <th></th>\n      <th>rus</th>\n      <th>eng</th>\n      <th>translations</th>\n      <th>attn_translations</th>\n    </tr>\n  </thead>\n  <tbody>\n    <tr>\n      <th>39417</th>\n      <td>все на меня смотрят</td>\n      <td>everyone is looking at me</td>\n      <td>everybody 's looking at me</td>\n      <td>everybody is looking at me</td>\n    </tr>\n    <tr>\n      <th>15923</th>\n      <td>я услышал позади себя шум</td>\n      <td>i heard a noise behind me</td>\n      <td>i heard a noise</td>\n      <td>i heard myself all the noise</td>\n    </tr>\n    <tr>\n      <th>17578</th>\n      <td>мы подтолкнули машину</td>\n      <td>we gave the car a push</td>\n      <td>we 're fixing the car</td>\n      <td>we 're the car</td>\n    </tr>\n    <tr>\n      <th>33961</th>\n      <td>том — хороший мальчик</td>\n      <td>tom is a good boy</td>\n      <td>tom is a good boy</td>\n      <td>tom is a good boy</td>\n    </tr>\n    <tr>\n      <th>32653</th>\n      <td>ты это переживёшь</td>\n      <td>you'll get over it</td>\n      <td>did you sign that</td>\n      <td>you deserved it</td>\n    </tr>\n    <tr>\n      <th>30</th>\n      <td>я принёс обед</td>\n      <td>i've brought lunch</td>\n      <td>i brought lunch</td>\n      <td>i brought lunch</td>\n    </tr>\n    <tr>\n      <th>41396</th>\n      <td>это можно было понять</td>\n      <td>it was understandable</td>\n      <td>it can happen</td>\n      <td>it was just to understand</td>\n    </tr>\n    <tr>\n      <th>36272</th>\n      <td>как ты познакомилась с томом</td>\n      <td>how did you and tom become acquainted</td>\n      <td>how did you get to tom</td>\n      <td>how did you get to get with tom</td>\n    </tr>\n    <tr>\n      <th>25925</th>\n      <td>крыша действительно нуждается в ремонте</td>\n      <td>the roof is really in need of repair</td>\n      <td>the roof of the roof is going to play</td>\n      <td>the roof is really good at &lt;unk&gt;</td>\n    </tr>\n    <tr>\n      <th>9175</th>\n      <td>дай их ему</td>\n      <td>give them to him</td>\n      <td>give them to him</td>\n      <td>give them it</td>\n    </tr>\n    <tr>\n      <th>33112</th>\n      <td>я опоздал на поезд</td>\n      <td>i missed the train</td>\n      <td>i missed the train</td>\n      <td>i missed the train</td>\n    </tr>\n    <tr>\n      <th>26870</th>\n      <td>она согласилась с ним</td>\n      <td>she agreed with him</td>\n      <td>she ran with him</td>\n      <td>she &lt;unk&gt; him with him</td>\n    </tr>\n    <tr>\n      <th>26265</th>\n      <td>я хочу видеть тома</td>\n      <td>i want to see tom</td>\n      <td>i want to see tom</td>\n      <td>i want to see tom</td>\n    </tr>\n    <tr>\n      <th>30761</th>\n      <td>том говорит что солгал мэри</td>\n      <td>tom says he lied to mary</td>\n      <td>tom says he lied to mary</td>\n      <td>tom says he lied to mary</td>\n    </tr>\n    <tr>\n      <th>26524</th>\n      <td>том раздевается</td>\n      <td>tom is undressing</td>\n      <td>tom is &lt;unk&gt;</td>\n      <td>tom is &lt;unk&gt;</td>\n    </tr>\n    <tr>\n      <th>18891</th>\n      <td>думаю мы скоро вернёмся</td>\n      <td>i think that we'll be back soon</td>\n      <td>i think we 'll be back soon</td>\n      <td>i think we 'll be back soon</td>\n    </tr>\n    <tr>\n      <th>22488</th>\n      <td>я сказал что попробую</td>\n      <td>i said that i'd try</td>\n      <td>i said that i would try</td>\n      <td>i told me that you 'd come</td>\n    </tr>\n    <tr>\n      <th>13614</th>\n      <td>том это сделал</td>\n      <td>has tom done that</td>\n      <td>tom did that</td>\n      <td>tom did it</td>\n    </tr>\n    <tr>\n      <th>23876</th>\n      <td>том хотел с тобой встретиться</td>\n      <td>tom wanted to meet you</td>\n      <td>tom wanted to meet you</td>\n      <td>tom wanted to meet you</td>\n    </tr>\n    <tr>\n      <th>26684</th>\n      <td>сын тома болен</td>\n      <td>tom's son is sick</td>\n      <td>tom 's son is sick</td>\n      <td>tom 's son is sick</td>\n    </tr>\n  </tbody>\n</table>\n</div>"
     },
     "execution_count": 73,
     "metadata": {},
     "output_type": "execute_result"
    }
   ]
  },
  {
   "cell_type": "code",
   "execution_count": null,
   "outputs": [],
   "source": [],
   "metadata": {
    "collapsed": false
   }
  }
 ],
 "metadata": {
  "kernelspec": {
   "name": "python3",
   "display_name": "Python 3",
   "language": "python"
  },
  "language_info": {
   "name": "python",
   "version": "3.7.9",
   "mimetype": "text/x-python",
   "codemirror_mode": {
    "name": "ipython",
    "version": 3
   },
   "pygments_lexer": "ipython3",
   "nbconvert_exporter": "python",
   "file_extension": ".py"
  }
 },
 "nbformat": 4,
 "nbformat_minor": 4
}
