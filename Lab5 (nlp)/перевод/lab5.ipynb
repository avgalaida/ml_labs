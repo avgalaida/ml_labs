{
 "cells": [
  {
   "metadata": {
    "id": "_tuTL_xFX9KH",
    "executionInfo": {
     "status": "ok",
     "timestamp": 1597608640549,
     "user_tz": -330,
     "elapsed": 1843,
     "user": {
      "displayName": "Prateek Joshi",
      "photoUrl": "",
      "userId": "14172408186104425556"
     }
    },
    "trusted": true
   },
   "cell_type": "code",
   "source": [
    "import time\n",
    "import pandas as pd\n",
    "\n",
    "import torch\n",
    "import torch.nn as nn\n",
    "import torch.nn.functional as F\n",
    "import torch.optim as optim\n",
    "import torchtext.data as data # версия 0.4\n",
    "\n",
    "import spacy\n",
    "from spacy.lang.ru import Russian\n",
    "\n",
    "from tqdm import tqdm\n",
    "pd.set_option('display.max_colwidth', 200)\n",
    "\n",
    "import warnings\n",
    "warnings.filterwarnings('ignore')\n",
    "\n",
    "device = torch.device('cpu')"
   ],
   "outputs": [],
   "execution_count": null
  },
  {
   "metadata": {
    "id": "WHoAFbeGZO9f",
    "executionInfo": {
     "status": "ok",
     "timestamp": 1597608653659,
     "user_tz": -330,
     "elapsed": 2035,
     "user": {
      "displayName": "Prateek Joshi",
      "photoUrl": "",
      "userId": "14172408186104425556"
     }
    },
    "trusted": true
   },
   "cell_type": "code",
   "source": [
    "nlp_ru = Russian()\n",
    "nlp_en = spacy.load(\"en_core_web_sm\", disable = [\"parser\", \"tagger\", \"ner\"])"
   ],
   "outputs": [],
   "execution_count": null
  },
  {
   "metadata": {
    "id": "xku6rYQ5ZVqg",
    "executionInfo": {
     "status": "ok",
     "timestamp": 1597608659424,
     "user_tz": -330,
     "elapsed": 1833,
     "user": {
      "displayName": "Prateek Joshi",
      "photoUrl": "",
      "userId": "14172408186104425556"
     }
    },
    "trusted": true
   },
   "cell_type": "code",
   "source": [
    "def tokenize_ru(text):\n",
    "  return [tok.text for tok in nlp_ru.tokenizer(text)]\n",
    "def tokenize_en(text):\n",
    "  return [tok.text for tok in nlp_en.tokenizer(text)]"
   ],
   "outputs": [],
   "execution_count": null
  },
  {
   "metadata": {
    "id": "N3kbwvXBZciJ",
    "executionInfo": {
     "status": "ok",
     "timestamp": 1597608667507,
     "user_tz": -330,
     "elapsed": 1445,
     "user": {
      "displayName": "Prateek Joshi",
      "photoUrl": "",
      "userId": "14172408186104425556"
     }
    },
    "trusted": true
   },
   "cell_type": "code",
   "source": [
    "SRC = data.Field(tokenize = tokenize_ru, \n",
    "                 include_lengths = True, \n",
    "                 lower = True)\n",
    "\n",
    "TRG = data.Field(tokenize = tokenize_en, \n",
    "                 init_token = '<sos>', # \"start\" token\n",
    "                 eos_token = '<eos>', # \"\" token\n",
    "                 include_lengths = True, \n",
    "                 lower = True)\n",
    "\n",
    "fields = [('rus', SRC), ('eng', TRG)]"
   ],
   "outputs": [],
   "execution_count": null
  },
  {
   "metadata": {
    "id": "Lp8cztUfb1ia",
    "executionInfo": {
     "status": "ok",
     "timestamp": 1597608721860,
     "user_tz": -330,
     "elapsed": 14894,
     "user": {
      "displayName": "Prateek Joshi",
      "photoUrl": "",
      "userId": "14172408186104425556"
     }
    },
    "trusted": true
   },
   "cell_type": "code",
   "source": [
    "nmt_data = data.TabularDataset(path=\"./train.csv\", format='csv', fields=fields)"
   ],
   "outputs": [],
   "execution_count": null
  },
  {
   "metadata": {
    "id": "aN8F4PXBb-I2",
    "executionInfo": {
     "status": "ok",
     "timestamp": 1597608722672,
     "user_tz": -330,
     "elapsed": 2580,
     "user": {
      "displayName": "Prateek Joshi",
      "photoUrl": "",
      "userId": "14172408186104425556"
     }
    },
    "trusted": true
   },
   "cell_type": "code",
   "source": [
    "SRC.build_vocab(nmt_data, max_size=4000)\n",
    "TRG.build_vocab(nmt_data, max_size=4000)\n",
    "len(SRC.vocab), len(TRG.vocab)"
   ],
   "outputs": [],
   "execution_count": null
  },
  {
   "metadata": {
    "id": "242vRepjcS4T",
    "executionInfo": {
     "status": "ok",
     "timestamp": 1597608727361,
     "user_tz": -330,
     "elapsed": 1508,
     "user": {
      "displayName": "Prateek Joshi",
      "photoUrl": "",
      "userId": "14172408186104425556"
     }
    },
    "trusted": true
   },
   "cell_type": "code",
   "source": [
    "train_data, val_data = nmt_data.split(split_ratio=0.8)"
   ],
   "outputs": [],
   "execution_count": null
  },
  {
   "metadata": {
    "id": "fnHMNU_ScWrO",
    "executionInfo": {
     "status": "ok",
     "timestamp": 1597608727363,
     "user_tz": -330,
     "elapsed": 1143,
     "user": {
      "displayName": "Prateek Joshi",
      "photoUrl": "",
      "userId": "14172408186104425556"
     }
    },
    "trusted": true
   },
   "cell_type": "code",
   "source": [
    "train_iterator, valid_iterator = data.BucketIterator.splits(\n",
    "    (train_data, val_data), \n",
    "    batch_size = 64, \n",
    "    sort_within_batch = True, \n",
    "    sort_key = lambda x:len(x.rus),\n",
    "    device = device)"
   ],
   "outputs": [],
   "execution_count": null
  },
  {
   "metadata": {
    "id": "mQc_6hSdcfel",
    "executionInfo": {
     "status": "ok",
     "timestamp": 1597608675229,
     "user_tz": -330,
     "elapsed": 2039,
     "user": {
      "displayName": "Prateek Joshi",
      "photoUrl": "",
      "userId": "14172408186104425556"
     }
    },
    "trusted": true
   },
   "cell_type": "code",
   "source": [
    "class Encoder(nn.Module):\n",
    "    def __init__(self, hidden_size, embedding_size, num_layers=2, dropout=0.3):\n",
    "    \n",
    "        super(Encoder, self).__init__()\n",
    "    \n",
    "        self.hidden_size = hidden_size\n",
    "        self.embedding_size = embedding_size\n",
    "        self.num_layers = num_layers\n",
    "        self.dropout = dropout\n",
    "    \n",
    "        self.embedding = nn.Embedding(len(SRC.vocab), embedding_size)\n",
    "        self.gru = nn.GRU(embedding_size, hidden_size,\n",
    "                          num_layers=num_layers,\n",
    "                          dropout=dropout)\n",
    "      \n",
    "    def forward(self, input_sequence):\n",
    "        embedded = self.embedding(input_sequence)\n",
    "        outputs, hidden = self.gru(embedded)\n",
    "\n",
    "        return outputs, hidden"
   ],
   "outputs": [],
   "execution_count": null
  },
  {
   "metadata": {
    "id": "VdCbw3Q6e7cI",
    "executionInfo": {
     "status": "ok",
     "timestamp": 1597608676951,
     "user_tz": -330,
     "elapsed": 914,
     "user": {
      "displayName": "Prateek Joshi",
      "photoUrl": "",
      "userId": "14172408186104425556"
     }
    },
    "trusted": true
   },
   "cell_type": "code",
   "source": [
    "class Attention(nn.Module):\n",
    "    def __init__(self, hidden_size):\n",
    "        super(Attention, self).__init__()        \n",
    "        self.hidden_size = hidden_size\n",
    "\n",
    "    @staticmethod\n",
    "    def dot_score(hidden_state, encoder_states):\n",
    "        return torch.sum(hidden_state * encoder_states, dim=2)\n",
    "  \n",
    "    def forward(self, hidden, encoder_outputs, mask):\n",
    "        attn_scores = self.dot_score(hidden, encoder_outputs)\n",
    "        attn_scores = attn_scores.t()\n",
    "        attn_scores = attn_scores.masked_fill(mask == 0, -1e5)\n",
    "     \n",
    "        return F.softmax(attn_scores, dim=1).unsqueeze(1)"
   ],
   "outputs": [],
   "execution_count": null
  },
  {
   "metadata": {
    "id": "ws1f7ONofEd9",
    "executionInfo": {
     "status": "ok",
     "timestamp": 1597608680710,
     "user_tz": -330,
     "elapsed": 1458,
     "user": {
      "displayName": "Prateek Joshi",
      "photoUrl": "",
      "userId": "14172408186104425556"
     }
    },
    "trusted": true
   },
   "cell_type": "code",
   "source": [
    "class Decoder(nn.Module):\n",
    "  def __init__(self, embedding_size, hidden_size, output_size, n_layers=2, dropout=0.3):\n",
    "      \n",
    "    super(Decoder, self).__init__()\n",
    "    \n",
    "    self.hidden_size = hidden_size\n",
    "    self.output_size = output_size\n",
    "    self.n_layers = n_layers\n",
    "    self.dropout = dropout\n",
    "    self.embedding = nn.Embedding(output_size, embedding_size)\n",
    "            \n",
    "    self.gru = nn.GRU(embedding_size, hidden_size, n_layers, \n",
    "                      dropout=dropout)\n",
    "    \n",
    "    self.concat = nn.Linear(hidden_size * 2, hidden_size)\n",
    "    self.out = nn.Linear(hidden_size, output_size)\n",
    "    self.attn = Attention(hidden_size)\n",
    "      \n",
    "  def forward(self, current_token, hidden_state, encoder_outputs, mask):\n",
    "    \n",
    "    embedded = self.embedding(current_token)\n",
    "    gru_output, hidden_state = self.gru(embedded, hidden_state)\n",
    "    attention_weights = self.attn(gru_output, encoder_outputs, mask)\n",
    "    context = attention_weights.bmm(encoder_outputs.transpose(0, 1))\n",
    "    \n",
    "    gru_output = gru_output.squeeze(0)\n",
    "    context = context.squeeze(1)\n",
    "    concat_input = torch.cat((gru_output, context), 1)\n",
    "    concat_output = torch.tanh(self.concat(concat_input))\n",
    "    \n",
    "    output = self.out(concat_output)\n",
    "\n",
    "    return output, hidden_state"
   ],
   "outputs": [],
   "execution_count": null
  },
  {
   "metadata": {
    "id": "qtZk_bZuf4T3",
    "executionInfo": {
     "status": "ok",
     "timestamp": 1597608683291,
     "user_tz": -330,
     "elapsed": 1191,
     "user": {
      "displayName": "Prateek Joshi",
      "photoUrl": "",
      "userId": "14172408186104425556"
     }
    },
    "trusted": true
   },
   "cell_type": "code",
   "source": [
    "class seq2seq(nn.Module):\n",
    "  def __init__(self, embedding_size, hidden_size, vocab_size, device, pad_idx, eos_idx, sos_idx):\n",
    "    super(seq2seq, self).__init__()\n",
    "    \n",
    "    self.embedding = nn.Embedding(vocab_size, embedding_size)\n",
    "    \n",
    "    self.encoder = Encoder(hidden_size, \n",
    "                            embedding_size,\n",
    "                            num_layers=2,\n",
    "                            dropout=0.3)\n",
    "         \n",
    "    self.decoder = Decoder(embedding_size,\n",
    "                            hidden_size,\n",
    "                            vocab_size,\n",
    "                            n_layers=2,\n",
    "                            dropout=0.3)\n",
    "    \n",
    "    \n",
    "    self.pad_idx = pad_idx\n",
    "    self.eos_idx = eos_idx\n",
    "    self.sos_idx = sos_idx\n",
    "    self.device = device\n",
    "      \n",
    "  def create_mask(self, input_sequence):\n",
    "    return (input_sequence != self.pad_idx).permute(1, 0)\n",
    "      \n",
    "      \n",
    "  def forward(self, input_sequence, output_sequence):\n",
    "    \n",
    "    input_tokens = input_sequence[0]\n",
    "    \n",
    "    if output_sequence is None:\n",
    "      inference = True\n",
    "      output_tokens = torch.zeros((100, input_tokens.shape[1])).long().fill_(self.sos_idx).to(self.device)\n",
    "    else:\n",
    "      inference = False\n",
    "      output_tokens = output_sequence[0]\n",
    "    \n",
    "    vocab_size = self.decoder.output_size\n",
    "    batch_size = len(input_sequence[1])\n",
    "    max_seq_len = len(output_tokens)\n",
    "    \n",
    "    outputs = torch.zeros(max_seq_len, batch_size, vocab_size).to(self.device)        \n",
    "    \n",
    "    encoder_outputs, hidden = self.encoder(input_tokens)\n",
    "    \n",
    "    output = output_tokens[0,:]\n",
    "    \n",
    "    mask = self.create_mask(input_tokens)\n",
    "    \n",
    "    for t in range(1, max_seq_len):\n",
    "      output = output.unsqueeze(0)\n",
    "      \n",
    "      output, hidden = self.decoder(output, hidden, encoder_outputs, mask)\n",
    "      outputs[t] = output\n",
    "      \n",
    "      if inference:\n",
    "        output = output.max(1)[1]\n",
    "      else:\n",
    "        output = output_tokens[t]\n",
    "      \n",
    "      if inference and output.item() == self.eos_idx:\n",
    "        return outputs[:t]\n",
    "        \n",
    "    return outputs"
   ],
   "outputs": [],
   "execution_count": null
  },
  {
   "metadata": {
    "id": "HTvvFcqegVsB",
    "executionInfo": {
     "status": "ok",
     "timestamp": 1597608737897,
     "user_tz": -330,
     "elapsed": 1254,
     "user": {
      "displayName": "Prateek Joshi",
      "photoUrl": "",
      "userId": "14172408186104425556"
     }
    },
    "trusted": true
   },
   "cell_type": "code",
   "source": [
    "pad_idx = TRG.vocab.stoi['<pad>']\n",
    "eos_idx = TRG.vocab.stoi['<eos>']\n",
    "sos_idx = TRG.vocab.stoi['<sos>']\n",
    "\n",
    "embedding_dim = 100\n",
    "hidden_dim = 256\n",
    "vocab_size = len(TRG.vocab)"
   ],
   "outputs": [],
   "execution_count": null
  },
  {
   "metadata": {
    "id": "Bv34kIurggpi",
    "executionInfo": {
     "status": "ok",
     "timestamp": 1597608744952,
     "user_tz": -330,
     "elapsed": 6030,
     "user": {
      "displayName": "Prateek Joshi",
      "photoUrl": "",
      "userId": "14172408186104425556"
     }
    },
    "trusted": true
   },
   "cell_type": "code",
   "source": [
    "model = seq2seq(embedding_dim,\n",
    "                hidden_dim, \n",
    "                vocab_size, \n",
    "                device, pad_idx, eos_idx, sos_idx).to(device)"
   ],
   "outputs": [],
   "execution_count": null
  },
  {
   "metadata": {
    "id": "radteBFHgj73",
    "executionInfo": {
     "status": "ok",
     "timestamp": 1597608744957,
     "user_tz": -330,
     "elapsed": 1331,
     "user": {
      "displayName": "Prateek Joshi",
      "photoUrl": "",
      "userId": "14172408186104425556"
     }
    },
    "outputId": "652b91b6-6aa5-4966-db37-c24383324e27",
    "trusted": true
   },
   "cell_type": "code",
   "source": [
    "model"
   ],
   "outputs": [],
   "execution_count": null
  },
  {
   "metadata": {
    "id": "7jXE3me9gmkc",
    "trusted": true
   },
   "cell_type": "code",
   "source": [
    "optimizer = optim.Adam(model.parameters())\n",
    "criterion = nn.CrossEntropyLoss(ignore_index = pad_idx)"
   ],
   "outputs": [],
   "execution_count": null
  },
  {
   "metadata": {
    "id": "cDl-ncAshKsS",
    "trusted": true
   },
   "cell_type": "code",
   "source": [
    "def train(model, ld, criterion, optimizer):\n",
    "  model.train()\n",
    "  \n",
    "  epoch_loss = 0\n",
    "  \n",
    "  for batch in tqdm(ld):\n",
    "    input_sequence = batch.rus\n",
    "    output_sequence = batch.eng\n",
    "\n",
    "    target_tokens = output_sequence[0]\n",
    "\n",
    "    optimizer.zero_grad()\n",
    "\n",
    "    output = model(input_sequence, output_sequence)\n",
    "\n",
    "    output = output[1:].view(-1, output.shape[-1])\n",
    "    target_tokens = target_tokens[1:].view(-1)\n",
    "\n",
    "    loss = criterion(output, target_tokens)\n",
    "\n",
    "    loss.backward()\n",
    "\n",
    "    optimizer.step()\n",
    "\n",
    "    epoch_loss += loss.item()\n",
    "      \n",
    "  return epoch_loss / len(ld)"
   ],
   "outputs": [],
   "execution_count": null
  },
  {
   "metadata": {
    "id": "dI0i_3BTxm6y",
    "trusted": true
   },
   "cell_type": "code",
   "source": [
    "def evaluate(model, iterator, criterion):\n",
    "  model.eval()\n",
    "  \n",
    "  epoch_loss = 0\n",
    "  \n",
    "  with torch.no_grad():\n",
    "      for batch in iterator:\n",
    "        input_sequence = batch.rus\n",
    "        output_sequence = batch.eng\n",
    "    \n",
    "        target_tokens = output_sequence[0]\n",
    "    \n",
    "        output = model(input_sequence, output_sequence)\n",
    "    \n",
    "        output = output[1:].view(-1, output.shape[-1])\n",
    "        target_tokens = target_tokens[1:].view(-1)\n",
    "    \n",
    "        loss = criterion(output, target_tokens)\n",
    "    \n",
    "        epoch_loss += loss.item()\n",
    "      \n",
    "  return epoch_loss / len(iterator)"
   ],
   "outputs": [],
   "execution_count": null
  },
  {
   "metadata": {
    "id": "ES9VLozNycFs",
    "trusted": true
   },
   "cell_type": "code",
   "source": [
    "def epoch_time(start_time, end_time):\n",
    "  elapsed_time = end_time - start_time\n",
    "  elapsed_mins = int(elapsed_time / 60)\n",
    "  elapsed_secs = int(elapsed_time - (elapsed_mins * 60))\n",
    "  return elapsed_mins, elapsed_secs"
   ],
   "outputs": [],
   "execution_count": null
  },
  {
   "metadata": {
    "id": "P1QF7f0vyb83",
    "executionInfo": {
     "status": "ok",
     "timestamp": 1597606380317,
     "user_tz": -330,
     "elapsed": 712052,
     "user": {
      "displayName": "Prateek Joshi",
      "photoUrl": "",
      "userId": "14172408186104425556"
     }
    },
    "outputId": "1dbda4bb-72bf-444c-e18a-f2456af6b62b",
    "trusted": true
   },
   "cell_type": "code",
   "source": [
    "N_EPOCHS = 5\n",
    "\n",
    "best_valid_loss = float('inf')\n",
    "\n",
    "for epoch in range(N_EPOCHS):\n",
    "    \n",
    "  start_time = time.time()\n",
    "  \n",
    "  train_loss = train(model, train_iterator, criterion, optimizer)\n",
    "  valid_loss = evaluate(model, valid_iterator, criterion)\n",
    "  \n",
    "  end_time = time.time()\n",
    "  \n",
    "  epoch_mins, epoch_secs = epoch_time(start_time, end_time)\n",
    "  \n",
    "  if valid_loss < best_valid_loss:\n",
    "    best_valid_loss = valid_loss\n",
    "    torch.save(model.state_dict(), 'best_model.pt')\n",
    "  \n",
    "  print(f'Epoch: {epoch+1:02} | Time: {epoch_mins}m {epoch_secs}s')\n",
    "  print(f'\\tTrain Loss: {train_loss:.3f}')\n",
    "  print(f'\\t Val. Loss: {valid_loss:.3f}')"
   ],
   "outputs": [],
   "execution_count": null
  },
  {
   "metadata": {
    "id": "oe33roXEZXQj",
    "executionInfo": {
     "status": "ok",
     "timestamp": 1597608755127,
     "user_tz": -330,
     "elapsed": 1297,
     "user": {
      "displayName": "Prateek Joshi",
      "photoUrl": "",
      "userId": "14172408186104425556"
     }
    },
    "outputId": "1b9c4563-aace-41ac-ad35-3cbf9a36e34d",
    "trusted": true
   },
   "cell_type": "code",
   "source": [
    "path = 'best_model.pt'\n",
    "model.load_state_dict(torch.load(path))"
   ],
   "outputs": [],
   "execution_count": null
  },
  {
   "metadata": {
    "id": "NNYrl9xuhtK6",
    "executionInfo": {
     "status": "ok",
     "timestamp": 1597608764359,
     "user_tz": -330,
     "elapsed": 1776,
     "user": {
      "displayName": "Prateek Joshi",
      "photoUrl": "",
      "userId": "14172408186104425556"
     }
    },
    "trusted": true
   },
   "cell_type": "code",
   "source": [
    "def translate_sentence(model, sentence):\n",
    "    model.eval()\n",
    "    with torch.no_grad():\n",
    "        tokenized = nlp_ru(sentence) \n",
    "        tokenized = [t.lower_ for t in tokenized]\n",
    "        int_tokenized = [SRC.vocab.stoi[t] for t in tokenized] \n",
    "        \n",
    "        sentence_length = torch.LongTensor([len(int_tokenized)]).to(model.device) \n",
    "        tensor = torch.LongTensor(int_tokenized).unsqueeze(1).to(model.device) \n",
    "        translation_tensor_logits = model((tensor, sentence_length), None) \n",
    "        translation_tensor = torch.argmax(translation_tensor_logits.squeeze(1), 1)\n",
    "        translation = [TRG.vocab.itos[t] for t in translation_tensor]\n",
    "     \n",
    "        translation = translation[1:]\n",
    "        return \" \".join(translation)"
   ],
   "outputs": [],
   "execution_count": null
  },
  {
   "metadata": {
    "id": "wTn1rIdMva8H",
    "executionInfo": {
     "status": "ok",
     "timestamp": 1597606886808,
     "user_tz": -330,
     "elapsed": 1782,
     "user": {
      "displayName": "Prateek Joshi",
      "photoUrl": "",
      "userId": "14172408186104425556"
     }
    },
    "outputId": "4c59d129-8aa5-459b-d1ae-030aee9d2452",
    "trusted": true
   },
   "cell_type": "code",
   "source": [
    "sentence = ('я человек')\n",
    "response = translate_sentence(model, sentence)\n",
    "print(response)"
   ],
   "outputs": [],
   "execution_count": null
  },
  {
   "metadata": {
    "id": "wSDfRbWSy8C8",
    "executionInfo": {
     "status": "ok",
     "timestamp": 1597608796965,
     "user_tz": -330,
     "elapsed": 1683,
     "user": {
      "displayName": "Prateek Joshi",
      "photoUrl": "",
      "userId": "14172408186104425556"
     }
    },
    "trusted": true
   },
   "cell_type": "code",
   "source": [
    "test_df = pd.read_csv('./data/translation.csv')"
   ],
   "outputs": [],
   "execution_count": null
  },
  {
   "metadata": {
    "id": "HVro9aj8wA8W",
    "executionInfo": {
     "status": "ok",
     "timestamp": 1597609112572,
     "user_tz": -330,
     "elapsed": 306917,
     "user": {
      "displayName": "Prateek Joshi",
      "photoUrl": "",
      "userId": "14172408186104425556"
     }
    },
    "outputId": "9e00f034-5a1c-42e9-8885-d87ea7bd2930",
    "trusted": true
   },
   "cell_type": "code",
   "source": [
    "attn_translations = [translate_sentence(model, sent) for sent in tqdm(test_df[\"rus\"])]"
   ],
   "outputs": [],
   "execution_count": null
  },
  {
   "metadata": {
    "id": "INpJsF6SwTN1",
    "executionInfo": {
     "status": "ok",
     "timestamp": 1597609132780,
     "user_tz": -330,
     "elapsed": 1263,
     "user": {
      "displayName": "Prateek Joshi",
      "photoUrl": "",
      "userId": "14172408186104425556"
     }
    },
    "trusted": true
   },
   "cell_type": "code",
   "source": [
    "test_df[\"attn_translations\"] = attn_translations\n",
    "test_df.sample(20)"
   ],
   "outputs": [],
   "execution_count": null
  },
  {
   "cell_type": "code",
   "source": [],
   "metadata": {
    "collapsed": false
   },
   "outputs": [],
   "execution_count": null
  }
 ],
 "metadata": {
  "kernelspec": {
   "name": "python3",
   "display_name": "Python 3",
   "language": "python"
  },
  "language_info": {
   "name": "python",
   "version": "3.7.9",
   "mimetype": "text/x-python",
   "codemirror_mode": {
    "name": "ipython",
    "version": 3
   },
   "pygments_lexer": "ipython3",
   "nbconvert_exporter": "python",
   "file_extension": ".py"
  }
 },
 "nbformat": 4,
 "nbformat_minor": 4
}
