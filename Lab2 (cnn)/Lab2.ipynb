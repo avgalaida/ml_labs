{
 "cells": [
  {
   "cell_type": "code",
   "metadata": {
    "collapsed": true
   },
   "source": [
    "import torch\n",
    "from ResNet import ResNet\n",
    "from trainer import Trainer\n",
    "from torchvision.datasets import ImageFolder\n",
    "from util import count_parameters, show, test\n",
    "from torch.utils.data import random_split, DataLoader\n",
    "from torchvision.transforms import Compose, Resize, Normalize, ToTensor"
   ],
   "outputs": [],
   "execution_count": null
  },
  {
   "cell_type": "code",
   "source": [
    "data_path = './datasets/animals10'\n",
    "\n",
    "T = Compose([\n",
    "    Resize((64,64)),\n",
    "    ToTensor(),\n",
    "    Normalize(mean=[.19,.19,.20],std=[.51,.50,.41]),\n",
    "])\n",
    "\n",
    "dataset = ImageFolder(data_path, transform=T)\n",
    "\n",
    "train_set, val_set, test_set = random_split(dataset, [.6,.2,.2])\n",
    "print(f'train: {len(train_set)}' + '\\n' + f'valid: {len(val_set)}')\n",
    "  \n",
    "loaders = {\n",
    "    'train': DataLoader(train_set, shuffle=True,  batch_size=64, drop_last=True),\n",
    "    'val':   DataLoader(val_set,   shuffle=False, batch_size=64),\n",
    "    'test':  DataLoader(test_set,  shuffle=False, batch_size=64)\n",
    "}"
   ],
   "metadata": {
    "collapsed": false
   },
   "outputs": [],
   "execution_count": null
  },
  {
   "cell_type": "code",
   "source": [
    "show(loaders['train'],4,4,dataset.classes)"
   ],
   "metadata": {
    "collapsed": false
   },
   "outputs": [],
   "execution_count": null
  },
  {
   "cell_type": "code",
   "source": [
    "model = ResNet(num_classes=10, num_blocks=[3,3,3], c_hidden=[32,64,128], dropout_prob=0.17)\n",
    "count_parameters(model)"
   ],
   "metadata": {
    "collapsed": false
   },
   "outputs": [],
   "execution_count": null
  },
  {
   "cell_type": "code",
   "source": [
    "trainer = Trainer(model, loaders['train'], loaders['test'])\n",
    "trainer.start(25)"
   ],
   "metadata": {
    "collapsed": false
   },
   "outputs": [],
   "execution_count": null
  },
  {
   "cell_type": "code",
   "source": [
    "model = ResNet(num_classes=10, num_blocks=[3,3,3], c_hidden=[32,64,128], dropout_prob=0.33)\n",
    "model.to(torch.device('mps'))\n",
    "model.load_state_dict(torch.load('./checkpoint.pth'))\n",
    "\n",
    "trainer.model = model\n",
    "trainer.optimizer= torch.optim.AdamW(model.parameters(), lr=1e-4, weight_decay=2e-1)"
   ],
   "metadata": {
    "collapsed": false
   },
   "outputs": [],
   "execution_count": null
  },
  {
   "cell_type": "code",
   "source": [
    "trainer.start(7, clear=False)"
   ],
   "metadata": {
    "collapsed": false
   },
   "outputs": [],
   "execution_count": null
  },
  {
   "cell_type": "code",
   "source": [
    "trainer.optimizer = torch.optim.SGD(model.parameters(), lr=1e-3)\n",
    "trainer.start(7, clear=False)"
   ],
   "metadata": {
    "collapsed": false
   },
   "outputs": [],
   "execution_count": null
  },
  {
   "cell_type": "code",
   "source": [
    "trainer.optimizer = torch.optim.Adam(model.parameters(), lr=1e-5)\n",
    "trainer.start(4, clear=False)"
   ],
   "metadata": {
    "collapsed": false
   },
   "outputs": [],
   "execution_count": null
  },
  {
   "cell_type": "code",
   "source": [
    "model = ResNet(num_classes=10, num_blocks=[3,3,3], c_hidden=[32,64,128], dropout_prob=0.1)\n",
    "model.to(torch.device('mps'))\n",
    "model.load_state_dict(torch.load('./checkpoint.pth'))\n",
    "\n",
    "trainer.model = model\n",
    "trainer.optimizer= torch.optim.Adam(model.parameters())\n",
    "trainer.start(7, clear=False)"
   ],
   "metadata": {
    "collapsed": false
   },
   "outputs": [],
   "execution_count": null
  },
  {
   "cell_type": "code",
   "source": [
    "trainer.plot_history()"
   ],
   "metadata": {
    "collapsed": false
   },
   "outputs": [],
   "execution_count": null
  },
  {
   "cell_type": "code",
   "source": [
    "model.load_state_dict(torch.load('./checkpoint.pth'))\n",
    "trainer.model.load_state_dict(torch.load('./checkpoint.pth'))"
   ],
   "metadata": {
    "collapsed": false
   },
   "outputs": [],
   "execution_count": null
  },
  {
   "cell_type": "code",
   "source": [
    "trainer.validate(loaders['val'])"
   ],
   "metadata": {
    "collapsed": false
   },
   "outputs": [],
   "execution_count": null
  },
  {
   "cell_type": "code",
   "source": [
    "test(model, loaders['val'], dataset.classes)"
   ],
   "metadata": {
    "collapsed": false
   },
   "outputs": [],
   "execution_count": null
  }
 ],
 "metadata": {
  "kernelspec": {
   "display_name": "Python 3",
   "language": "python",
   "name": "python3"
  },
  "language_info": {
   "codemirror_mode": {
    "name": "ipython",
    "version": 2
   },
   "file_extension": ".py",
   "mimetype": "text/x-python",
   "name": "python",
   "nbconvert_exporter": "python",
   "pygments_lexer": "ipython2",
   "version": "2.7.6"
  }
 },
 "nbformat": 4,
 "nbformat_minor": 0
}
