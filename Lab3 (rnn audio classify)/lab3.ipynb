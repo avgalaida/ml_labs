{
 "cells": [
  {
   "cell_type": "code",
   "id": "initial_id",
   "metadata": {
    "collapsed": true
   },
   "source": [
    "%load_ext autoreload\n",
    "%autoreload 2"
   ],
   "outputs": [],
   "execution_count": null
  },
  {
   "cell_type": "code",
   "source": [
    "import random\n",
    "from IPython.display import Audio\n",
    "from components.dataset import AudioBinaryClassifyDS\n",
    "from components.loaders import loaders\n",
    "from components.model import AudioRNNBinary\n",
    "from components.trainer import Trainer\n",
    "from utils.plot import plot_waveform, plot_spectrogram"
   ],
   "metadata": {
    "collapsed": false
   },
   "id": "e00af1339e8736bd",
   "outputs": [],
   "execution_count": null
  },
  {
   "cell_type": "code",
   "source": [
    "dataset = AudioBinaryClassifyDS(\n",
    "    dir1='.catdog_audio/cat/',\n",
    "    dir2='.catdog_audio/dog/',\n",
    "    class_dict={0: 'cat', 1: 'dog'}\n",
    ")  \n",
    "dataset.pre_comp(n_cut=3)"
   ],
   "metadata": {
    "collapsed": false
   },
   "id": "be6d4a6d17f321de",
   "outputs": [],
   "execution_count": null
  },
  {
   "cell_type": "code",
   "source": [
    "random_idx = random.randint(0, len(dataset))\n",
    "sample = dataset[random_idx]\n",
    "\n",
    "plot_waveform(sample['waveform'], sample['sr'], 'Waveform - {}: {}'.format(random_idx, dataset.class_dict[sample['label'].item()]))\n",
    "plot_spectrogram(sample['specgram'], 'MelSpectogram - {}'.format(random_idx))\n",
    "Audio(sample['waveform'], rate=sample['sr'])"
   ],
   "metadata": {
    "collapsed": false
   },
   "id": "8bd639793ecb2d9a",
   "outputs": [],
   "execution_count": null
  },
  {
   "cell_type": "code",
   "source": [
    "sample['specgram'].shape"
   ],
   "metadata": {
    "collapsed": false
   },
   "id": "e8619a577749b606",
   "outputs": [],
   "execution_count": null
  },
  {
   "cell_type": "code",
   "source": [
    "loaders = loaders(dataset, 32)"
   ],
   "metadata": {
    "collapsed": false
   },
   "id": "a5f5662b9675d59e",
   "outputs": [],
   "execution_count": null
  },
  {
   "cell_type": "code",
   "source": [
    "input_size = len(sample['specgram'][0])\n",
    "hidden_size = len(sample['specgram'][0])*2\n",
    "\n",
    "model = AudioRNNBinary(input_size, hidden_size, num_layers=2, drop_out=0.6)\n",
    "trainer = Trainer(model, loaders['train'], loaders['val'])\n",
    "model"
   ],
   "metadata": {
    "collapsed": false
   },
   "id": "8cd036b47d8275fe",
   "outputs": [],
   "execution_count": null
  },
  {
   "cell_type": "code",
   "source": [
    "trainer.start(120)\n",
    "trainer.plot_history()\n",
    "print('best val acc: {}'.format(trainer.best_acc))"
   ],
   "metadata": {
    "collapsed": false
   },
   "id": "c7a24578c668dd90",
   "outputs": [],
   "execution_count": null
  },
  {
   "cell_type": "code",
   "source": [
    "model = trainer.load_checkpoint()\n",
    "model.eval();\n",
    "\n",
    "r = random.randint(0, loaders['val'].batch_size)\n",
    "sample = loaders['val'].dataset[r]\n",
    "\n",
    "wf = sample['waveform']\n",
    "sr = sample['sr']\n",
    "spec = sample['specgram']\n",
    "label = sample['label'].item()\n",
    "\n",
    "out = model(spec.unsqueeze(0).to('mps')).item()\n",
    "res = 0 if out < 0.5 else 1\n",
    "\n",
    "print('true: {}'.format(dataset.class_dict[label]))\n",
    "print('pred: {}, out={}'.format(dataset.class_dict[res], out))\n",
    "\n",
    "Audio(wf, rate=sample['sr'])"
   ],
   "metadata": {
    "collapsed": false
   },
   "id": "8395e2be2dbb14b8",
   "outputs": [],
   "execution_count": null
  },
  {
   "cell_type": "code",
   "source": [],
   "metadata": {
    "collapsed": false
   },
   "id": "4a04792c2689185a",
   "outputs": [],
   "execution_count": null
  }
 ],
 "metadata": {
  "kernelspec": {
   "display_name": "Python 3",
   "language": "python",
   "name": "python3"
  },
  "language_info": {
   "codemirror_mode": {
    "name": "ipython",
    "version": 2
   },
   "file_extension": ".py",
   "mimetype": "text/x-python",
   "name": "python",
   "nbconvert_exporter": "python",
   "pygments_lexer": "ipython2",
   "version": "2.7.6"
  }
 },
 "nbformat": 4,
 "nbformat_minor": 5
}
