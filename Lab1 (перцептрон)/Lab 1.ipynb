{
 "cells": [
  {
   "cell_type": "markdown",
   "source": [
    "# Импорт библиотек"
   ],
   "metadata": {
    "collapsed": false
   }
  },
  {
   "cell_type": "code",
   "metadata": {
    "collapsed": true
   },
   "source": [
    "import torch\n",
    "import torch.nn as nn\n",
    "import torch.nn.functional as F\n",
    "import torchvision as tv\n",
    "\n",
    "import numpy as np\n",
    "import matplotlib.pyplot as plt\n",
    "import cv2\n",
    "from torch.utils.data import DataLoader, random_split, Dataset\n",
    "from tqdm import tqdm"
   ],
   "outputs": [],
   "execution_count": null
  },
  {
   "cell_type": "markdown",
   "source": [
    "# Загрузка датасета"
   ],
   "metadata": {
    "collapsed": false
   }
  },
  {
   "cell_type": "code",
   "source": [
    "# Преобразование изображения в тензор\n",
    "trans = tv.transforms.Compose([\n",
    "    tv.transforms.ToTensor()\n",
    "])\n",
    "\n",
    "ds_mnist = tv.datasets.MNIST('./data', download=True, transform=trans)\n",
    "\n",
    "proportions = [0.6, 0.2, 0.2]\n",
    "size = len(ds_mnist)\n",
    "\n",
    "train_ds, valid_ds, test_ds = random_split(ds_mnist, [int(x * size) for x in proportions])\n",
    "\n",
    "print(\"Размер тренировочного датасета:\", len(train_ds))\n",
    "print(\"Размер валидационного датасета:\", len(valid_ds))\n",
    "print(\"Размер тестового датасета:\", len(test_ds))"
   ],
   "metadata": {
    "collapsed": false
   },
   "outputs": [],
   "execution_count": null
  },
  {
   "cell_type": "code",
   "source": [
    "# Обращаемся к двумерному тензору\n",
    "img = train_ds[9][0].numpy()[0]\n",
    "plt.imshow(img, cmap='gray')"
   ],
   "metadata": {
    "collapsed": false
   },
   "outputs": [],
   "execution_count": null
  },
  {
   "cell_type": "markdown",
   "source": [
    "# Даталоадер"
   ],
   "metadata": {
    "collapsed": false
   }
  },
  {
   "cell_type": "code",
   "source": [
    "batch_size = 16\n",
    "\n",
    "train_loader = DataLoader(\n",
    "    train_ds, batch_size=batch_size, shuffle=True,\n",
    "    num_workers=1, drop_last=True\n",
    ")\n",
    "\n",
    "valid_loader =  DataLoader(\n",
    "    valid_ds, batch_size=batch_size, shuffle=True,\n",
    "    num_workers=1, drop_last=False\n",
    ")\n",
    "\n",
    "test_loader =  DataLoader(\n",
    "    test_ds, batch_size=batch_size, shuffle=True,\n",
    "    num_workers=1, drop_last=False\n",
    ")"
   ],
   "metadata": {
    "collapsed": false
   },
   "outputs": [],
   "execution_count": null
  },
  {
   "cell_type": "markdown",
   "source": [
    "# Архитектура нейронной сети"
   ],
   "metadata": {
    "collapsed": false
   }
  },
  {
   "cell_type": "markdown",
   "source": [
    "### Полносвязная нейронная сеть"
   ],
   "metadata": {
    "collapsed": false
   }
  },
  {
   "cell_type": "code",
   "source": [
    "# Fully Connected Neural Network\n",
    "class FCNN(nn.Module):\n",
    "    def __init__(self):\n",
    "        super().__init__()\n",
    "        self.flat = nn.Flatten()\n",
    "        self.linear1 = nn.Linear(28 * 28, 16)\n",
    "        self.linear2 = nn.Linear(16, 16)\n",
    "        self.linear3 = nn.Linear(16, 10)\n",
    "        self.act = nn.ReLU()\n",
    "\n",
    "    def forward(self, x):\n",
    "        out = self.flat(x)\n",
    "        out = self.linear1(out)\n",
    "        out = self.act(out)\n",
    "        out = self.linear2(out)\n",
    "        out = self.act(out)\n",
    "        out = self.linear3(out)\n",
    "\n",
    "        return out"
   ],
   "metadata": {
    "collapsed": false
   },
   "outputs": [],
   "execution_count": null
  },
  {
   "cell_type": "markdown",
   "source": [
    "### Сверточная нейронная сеть"
   ],
   "metadata": {
    "collapsed": false
   }
  },
  {
   "cell_type": "code",
   "source": [
    "# Convolutional Neural Network\n",
    "class CNN(nn.Module):\n",
    "    def __init__(self):\n",
    "        super().__init__()\n",
    "\n",
    "        self.act = nn.LeakyReLU(0.2)\n",
    "        self.maxpool = nn.MaxPool2d(2,2)\n",
    "        self.conv0 = nn.Conv2d(1, 128, 2, stride=1, padding=0)\n",
    "        self.conv1 = nn.Conv2d(128, 128, 2, stride=1, padding=0)\n",
    "        self.conv2 = nn.Conv2d(128, 128, 2, stride=1, padding=0)\n",
    "        self.conv3 = nn.Conv2d(128, 28*28, 2, stride=1, padding=0)\n",
    "\n",
    "        self.adaptivepool = nn.AdaptiveAvgPool2d((1,1))\n",
    "        self.flatten = nn.Flatten()\n",
    "        self.linear1 = nn.Linear(28*28, 20)\n",
    "        self.linear2 = nn.Linear(20, 10)\n",
    "\n",
    "    def forward(self, x):\n",
    "\n",
    "\n",
    "        out = self.conv0(x)\n",
    "        out = self.act(out)\n",
    "        out = self.maxpool(out)\n",
    "\n",
    "        out = self.conv1(out)\n",
    "        out = self.act(out)\n",
    "        out = self.maxpool(out)\n",
    "\n",
    "        out = self.conv2(out)\n",
    "        out = self.act(out)\n",
    "        out = self.maxpool(out)\n",
    "\n",
    "        out = self.conv3(out)\n",
    "        out = self.act(out)\n",
    "\n",
    "        out = self.adaptivepool(out)\n",
    "        out = self.flatten(out)\n",
    "        out = self.linear1(out)\n",
    "        out = self.act(out)\n",
    "        out = self.linear2(out)\n",
    "\n",
    "        return out"
   ],
   "metadata": {
    "collapsed": false
   },
   "outputs": [],
   "execution_count": null
  },
  {
   "cell_type": "code",
   "source": [
    "model = FCNN()"
   ],
   "metadata": {
    "collapsed": false
   },
   "outputs": [],
   "execution_count": null
  },
  {
   "cell_type": "markdown",
   "source": [
    "# Оптимайзер, функция потерь, метрики"
   ],
   "metadata": {
    "collapsed": false
   }
  },
  {
   "cell_type": "code",
   "source": [
    "optimizer = torch.optim.SGD(model.parameters(), lr=1e-3, momentum=0.9)\n",
    "\n",
    "loss_fn = nn.CrossEntropyLoss()\n",
    "\n",
    "def accuracy(pred, label):\n",
    "    pred_softmax = F.softmax(pred, dim=1)\n",
    "    pred_argmax = pred_softmax.argmax(1).detach().numpy()\n",
    "    label_argmax = label.argmax(1).numpy()\n",
    "    answer = (pred_argmax == label_argmax)\n",
    "    return answer.mean()"
   ],
   "metadata": {
    "collapsed": false
   },
   "outputs": [],
   "execution_count": null
  },
  {
   "cell_type": "markdown",
   "source": [
    "# Обучение"
   ],
   "metadata": {
    "collapsed": false
   }
  },
  {
   "cell_type": "code",
   "source": [
    "# На чём обучаем\n",
    "device = torch.device(\"mps\") # mps для Mac с процессорами Apple Slicon (M1, M2)! Альтернативы - 'cuda', 'cpu'\n",
    "model = model.to(device)\n",
    "loss_fn = loss_fn.to(device)"
   ],
   "metadata": {
    "collapsed": false
   },
   "outputs": [],
   "execution_count": null
  },
  {
   "cell_type": "code",
   "source": [
    "epochs = 10\n",
    "\n",
    "accuracy_train = []\n",
    "accuracy_valid = []\n",
    "losses_train = []\n",
    "losses_valid = []\n",
    "\n",
    "for epoch in range(epochs):\n",
    "    print(f\"{epoch+1}/{epochs}\")\n",
    "\n",
    "    loss_train = 0\n",
    "    acc_train = 0\n",
    "    loss_valid = 0\n",
    "    acc_valid = 0\n",
    "\n",
    "    for img, label in (pbar := tqdm(train_loader)):\n",
    "        optimizer.zero_grad()\n",
    "        img = img.to(device)\n",
    "        label = label.to(device)\n",
    "\n",
    "        label = F.one_hot(label, 10).float()\n",
    "        pred = model(img)\n",
    "\n",
    "        loss = loss_fn(pred, label)\n",
    "\n",
    "        loss.backward()\n",
    "        loss_item = loss.item()\n",
    "        loss_train += loss_item\n",
    "\n",
    "        optimizer.step()\n",
    "\n",
    "        acc_current = accuracy(pred.cpu(), label.cpu())\n",
    "        acc_train += acc_current\n",
    "\n",
    "        #pbar.set_description(f'loss: {loss_item:.5f}\\taccuracy: {acc_current:.3f}')\n",
    "\n",
    "    accuracy_train.append(acc_train/len(train_loader))\n",
    "    losses_train.append(loss_train/len(train_loader))\n",
    "    print(f\"train acc: {accuracy_train[-1]}\")\n",
    "    print(f\"train loss: {losses_train[-1]}\")\n",
    "\n",
    "    for img,label in (pbar := tqdm(valid_loader)):\n",
    "        with torch.no_grad():\n",
    "            img = img.to(device)\n",
    "            label = label.to(device)\n",
    "            pred = model(img)\n",
    "            label = F.one_hot(label, 10).float()\n",
    "            loss = loss_fn(pred, label)\n",
    "            loss_item = loss.item()\n",
    "            loss_valid += loss_item\n",
    "            acc_current = accuracy(pred.cpu(), label.cpu())\n",
    "            acc_valid += acc_current\n",
    "\n",
    "    accuracy_valid.append(acc_valid/len(valid_loader))\n",
    "    losses_valid.append(loss_valid/len(valid_loader))\n",
    "\n",
    "    print(f\"valid acc: {accuracy_valid[-1]}\")\n",
    "    print(f\"valid loss: {losses_valid[-1]}\")"
   ],
   "metadata": {
    "collapsed": false
   },
   "outputs": [],
   "execution_count": null
  },
  {
   "cell_type": "markdown",
   "source": [
    "### График обучения"
   ],
   "metadata": {
    "collapsed": false
   }
  },
  {
   "cell_type": "code",
   "source": [
    "x = range(1, epochs + 1)\n",
    "\n",
    "# Строим график для точности\n",
    "plt.figure(figsize=(8, 4))\n",
    "plt.plot(x, accuracy_train, 'b', label='Точность на обучении')\n",
    "plt.plot(x, accuracy_valid, 'r', label='Точность на валидации')\n",
    "plt.title('График точности обучения по эпохам')\n",
    "plt.xlabel('Эпохи')\n",
    "plt.ylabel('Точность')\n",
    "plt.legend()\n",
    "plt.grid(True)\n",
    "\n",
    "# Строим график для потерь\n",
    "plt.figure(figsize=(8, 4))\n",
    "plt.plot(x, losses_train, 'b', label='Потери на обучении')\n",
    "plt.plot(x, losses_valid, 'r', label='Потери на валидации')\n",
    "plt.title('График потерь обучения по эпохам')\n",
    "plt.xlabel('Эпохи')\n",
    "plt.ylabel('Потери')\n",
    "plt.legend()\n",
    "plt.grid(True)\n",
    "\n",
    "# Отображаем оба графика\n",
    "plt.show()"
   ],
   "metadata": {
    "collapsed": false
   },
   "outputs": [],
   "execution_count": null
  },
  {
   "cell_type": "markdown",
   "source": [
    "### Сохранение модели"
   ],
   "metadata": {
    "collapsed": false
   }
  },
  {
   "cell_type": "code",
   "source": [
    "save_path = './models/model1.pth'\n",
    "torch.save(model.state_dict(), save_path)"
   ],
   "metadata": {
    "collapsed": false
   },
   "outputs": [],
   "execution_count": null
  },
  {
   "cell_type": "markdown",
   "source": [
    "# Использование модели"
   ],
   "metadata": {
    "collapsed": false
   }
  },
  {
   "cell_type": "markdown",
   "source": [
    "### Загрузка модели из файла"
   ],
   "metadata": {
    "collapsed": false
   }
  },
  {
   "cell_type": "code",
   "source": [
    "model = FCNN()\n",
    "# модели находятся в папке models, самая точная 'cnn1.pth',\n",
    "# для использования нужно изменить тип модели на model = CNN()\n",
    "load_path = './models/model1.pth'\n",
    "model.load_state_dict(torch.load(load_path))\n",
    "model.eval();"
   ],
   "metadata": {
    "collapsed": false
   },
   "outputs": [],
   "execution_count": null
  },
  {
   "cell_type": "code",
   "source": [
    "model = model.to('cpu')  # Опционально"
   ],
   "metadata": {
    "collapsed": false
   },
   "outputs": [],
   "execution_count": null
  },
  {
   "cell_type": "markdown",
   "source": [
    "### Тест"
   ],
   "metadata": {
    "collapsed": false
   }
  },
  {
   "cell_type": "code",
   "source": [
    "loss_test = 0\n",
    "acc_test = 0\n",
    "\n",
    "for img,label in (pbar := tqdm(test_loader)):\n",
    "    with torch.no_grad():\n",
    "        pred = model(img)\n",
    "        label = F.one_hot(label, 10).float()\n",
    "        loss = loss_fn(pred, label)\n",
    "        loss_item = loss.item()\n",
    "        loss_test += loss_item\n",
    "        acc_current = accuracy(pred.cpu(), label.cpu())\n",
    "        acc_test += acc_current\n",
    "\n",
    "print(f\"Средние потери: {loss_test/len(test_loader)}\")\n",
    "print(f\"Средняя точность: {acc_test/len(test_loader)}\")"
   ],
   "metadata": {
    "collapsed": false
   },
   "outputs": [],
   "execution_count": null
  },
  {
   "cell_type": "markdown",
   "source": [
    "### Пеинт"
   ],
   "metadata": {
    "collapsed": false
   }
  },
  {
   "cell_type": "code",
   "source": [
    "path = './data/test/3_Paint.png'\n",
    "img = cv2.imread(path, cv2.IMREAD_GRAYSCALE)\n",
    "plt.imshow(img, cmap='gray')\n",
    "\n",
    "# Преобразование\n",
    "img = np.expand_dims(img, axis=0)\n",
    "img = np.expand_dims(img, axis=0)\n",
    "img = img.astype(np.float32)/255.0\n",
    "\n",
    "img = torch.from_numpy(img)"
   ],
   "metadata": {
    "collapsed": false
   },
   "outputs": [],
   "execution_count": null
  },
  {
   "cell_type": "code",
   "source": [
    "predict = model(img)\n",
    "print(F.softmax(predict, dim=1).detach().numpy().argmax())\n",
    "F.softmax(predict, dim=1).detach().numpy()"
   ],
   "metadata": {
    "collapsed": false
   },
   "outputs": [],
   "execution_count": null
  },
  {
   "cell_type": "markdown",
   "source": [
    "### Реальное фото"
   ],
   "metadata": {
    "collapsed": false
   }
  },
  {
   "cell_type": "code",
   "source": [
    "# Чтение\n",
    "img = cv2.imread('./data/test/4_Real.png', cv2.IMREAD_COLOR)\n",
    "img = cv2.cvtColor(img, cv2.COLOR_BGR2RGB)\n",
    "plt.imshow(img)"
   ],
   "metadata": {
    "collapsed": false
   },
   "outputs": [],
   "execution_count": null
  },
  {
   "cell_type": "code",
   "source": [
    "# Тона серого\n",
    "gray_img = cv2.cvtColor(img, cv2.COLOR_RGBA2GRAY)\n",
    "plt.imshow(gray_img,cmap='gray')"
   ],
   "metadata": {
    "collapsed": false
   },
   "outputs": [],
   "execution_count": null
  },
  {
   "cell_type": "code",
   "source": [
    "# Увеличение контраста с помощью выравнивания гистограммы\n",
    "# contrasted_img = cv2.equalizeHist(gray_img)\n",
    "# plt.imshow(contrasted_img, cmap='gray')"
   ],
   "metadata": {
    "collapsed": false
   },
   "outputs": [],
   "execution_count": null
  },
  {
   "cell_type": "code",
   "source": [
    "# Инверсия цветов\n",
    "inverted_img = cv2.bitwise_not(gray_img)\n",
    "plt.imshow(inverted_img, cmap='gray')"
   ],
   "metadata": {
    "collapsed": false
   },
   "outputs": [],
   "execution_count": null
  },
  {
   "cell_type": "code",
   "source": [
    "# Удаление шума с помощью морфологического закрытия\n",
    "# kernel = np.ones((4, 4), np.uint8)\n",
    "# cleared_img = cv2.morphologyEx(inverted_img, cv2.MORPH_CLOSE, kernel)\n",
    "# plt.imshow(cleared_img, cmap='gray')\n",
    "cleared_img = inverted_img"
   ],
   "metadata": {
    "collapsed": false
   },
   "outputs": [],
   "execution_count": null
  },
  {
   "cell_type": "code",
   "source": [
    "# Примените метод Оцу для бинаризации\n",
    "_, binary_img = cv2.threshold(cleared_img, 0, 255, cv2.THRESH_BINARY + cv2.THRESH_OTSU)\n",
    "plt.imshow(binary_img, cmap='gray')"
   ],
   "metadata": {
    "collapsed": false
   },
   "outputs": [],
   "execution_count": null
  },
  {
   "cell_type": "code",
   "source": [
    "desired_size = (28, 28)\n",
    "resized_img = cv2.resize(binary_img, desired_size, interpolation=cv2.INTER_CUBIC)\n",
    "plt.imshow(resized_img, cmap='gray')"
   ],
   "metadata": {
    "collapsed": false
   },
   "outputs": [],
   "execution_count": null
  },
  {
   "cell_type": "code",
   "source": [
    "img = resized_img\n",
    "# Преобразование\n",
    "img = np.expand_dims(img, axis=0)\n",
    "img = np.expand_dims(img, axis=0)\n",
    "img = img.astype(np.float32)/255.0\n",
    "\n",
    "img = torch.from_numpy(img)\n",
    "\n",
    "predict = model(img)\n",
    "print(F.softmax(predict, dim=1).detach().numpy().argmax())\n",
    "F.softmax(predict, dim=1).detach().numpy()"
   ],
   "metadata": {
    "collapsed": false
   },
   "outputs": [],
   "execution_count": null
  },
  {
   "cell_type": "markdown",
   "source": [
    "# Kaggle"
   ],
   "metadata": {
    "collapsed": false
   }
  },
  {
   "cell_type": "code",
   "source": [
    "# формирование таблицы для сайта kaggle с использованием нашей модели\n",
    "import pandas as pd\n",
    "\n",
    "data = pd.read_csv('./data/test.csv')\n",
    "data_tensor = torch.tensor(data.values, dtype=torch.float32)\n",
    "\n",
    "class CustomDataset(Dataset):\n",
    "    def __init__(self, data_tensor):\n",
    "        self.data = data_tensor\n",
    "\n",
    "    def __len__(self):\n",
    "        return len(self.data)\n",
    "\n",
    "    def __getitem__(self, idx):\n",
    "        sample = self.data[idx]\n",
    "        return sample\n",
    "\n",
    "batch_size = 64\n",
    "test_dataset = CustomDataset(data_tensor)\n",
    "test_ds_loader = DataLoader(test_dataset, batch_size=batch_size, shuffle=False)\n",
    "\n",
    "predicted_labels = []\n",
    "for batch in tqdm(test_ds_loader):\n",
    "    batch = batch.view(batch.size(0), 1, 28, 28)\n",
    "    with torch.no_grad():\n",
    "        predictions = model(batch)\n",
    "\n",
    "    predicted_batch_labels = torch.argmax(predictions, dim=1)\n",
    "    predicted_labels.extend(predicted_batch_labels.tolist())\n",
    "\n",
    "image_ids = list(range(1, len(predicted_labels) + 1))\n",
    "image_id_label_pairs = list(zip(image_ids, predicted_labels))\n",
    "\n",
    "\n",
    "df = pd.DataFrame(image_id_label_pairs, columns=[\"ImageId\", \"Label\"])\n",
    "df.to_csv('./data/output.csv', index=False)\n",
    "df"
   ],
   "metadata": {
    "collapsed": false
   },
   "outputs": [],
   "execution_count": null
  },
  {
   "cell_type": "code",
   "source": [],
   "metadata": {
    "collapsed": false
   },
   "outputs": [],
   "execution_count": null
  }
 ],
 "metadata": {
  "kernelspec": {
   "display_name": "Python 3",
   "language": "python",
   "name": "python3"
  },
  "language_info": {
   "codemirror_mode": {
    "name": "ipython",
    "version": 2
   },
   "file_extension": ".py",
   "mimetype": "text/x-python",
   "name": "python",
   "nbconvert_exporter": "python",
   "pygments_lexer": "ipython2",
   "version": "2.7.6"
  }
 },
 "nbformat": 4,
 "nbformat_minor": 0
}
